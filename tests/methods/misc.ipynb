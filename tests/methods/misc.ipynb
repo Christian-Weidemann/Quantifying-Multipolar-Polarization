{
 "cells": [
  {
   "cell_type": "code",
   "execution_count": null,
   "metadata": {},
   "outputs": [],
   "source": [
    "# import sys\n",
    "# sys.path.append('..')\n",
    "\n",
    "import tests.methods.torch_nvd as nvd\n",
    "import tests.methods.utils as utils\n",
    "\n",
    "import networkx as nx\n",
    "import matplotlib.pyplot as plt\n",
    "import pandas as pd\n",
    "import numpy as np\n",
    "\n",
    "import numpy as np\n",
    "import pandas as pd\n",
    "import networkx as nx\n",
    "\n",
    "import scipy.stats as st"
   ]
  },
  {
   "cell_type": "code",
   "execution_count": 1,
   "metadata": {},
   "outputs": [
    {
     "ename": "NameError",
     "evalue": "name 'plt' is not defined",
     "output_type": "error",
     "traceback": [
      "\u001b[1;31m---------------------------------------------------------------------------\u001b[0m",
      "\u001b[1;31mNameError\u001b[0m                                 Traceback (most recent call last)",
      "Cell \u001b[1;32mIn[1], line 6\u001b[0m\n\u001b[0;32m      4\u001b[0m k \u001b[38;5;241m=\u001b[39m \u001b[38;5;241m1\u001b[39m\n\u001b[0;32m      5\u001b[0m iterations \u001b[38;5;241m=\u001b[39m \u001b[38;5;241m100\u001b[39m\n\u001b[1;32m----> 6\u001b[0m fig, ax \u001b[38;5;241m=\u001b[39m \u001b[43mplt\u001b[49m\u001b[38;5;241m.\u001b[39msubplots(\u001b[38;5;241m1\u001b[39m, \u001b[38;5;28mlen\u001b[39m(nodes_per_comms_s), figsize\u001b[38;5;241m=\u001b[39m(\u001b[38;5;241m3\u001b[39m\u001b[38;5;241m*\u001b[39m\u001b[38;5;28mlen\u001b[39m(nodes_per_comms_s), \u001b[38;5;241m3\u001b[39m))\n\u001b[0;32m      8\u001b[0m \u001b[38;5;66;03m# Initialize pos to None to start with\u001b[39;00m\n\u001b[0;32m      9\u001b[0m pos \u001b[38;5;241m=\u001b[39m \u001b[38;5;28;01mNone\u001b[39;00m\n",
      "\u001b[1;31mNameError\u001b[0m: name 'plt' is not defined"
     ]
    }
   ],
   "source": [
    "nodes_per_comms_s = range(3, 10)\n",
    "labels = False\n",
    "seed = 2\n",
    "k = 1\n",
    "iterations = 100\n",
    "fig, ax = plt.subplots(1, len(nodes_per_comms_s), figsize=(3*len(nodes_per_comms_s), 3))\n",
    "\n",
    "# Initialize pos to None to start with\n",
    "pos = None\n",
    "\n",
    "for i, nodes in enumerate(nodes_per_comms_s):\n",
    "    G = utils.make_community_graph(n_comms=3, nodes_per_comm=nodes)\n",
    "    \n",
    "    # Calculate positions only if it's the first iteration or if positions are not yet available\n",
    "    if pos is None:\n",
    "        pos = nx.spring_layout(G, k=k, seed=seed, iterations=iterations)\n",
    "    else:\n",
    "        pos = nx.spring_layout(G, k=k, pos=pos, seed=seed, iterations=iterations, fixed=list(range(nodes*3)))\n",
    "    # Colour nodes by community, with desaturation\n",
    "    comms = [0]*nodes + [1]*nodes + [2]*nodes\n",
    "    colours = plt.cm.Set1(np.array(comms)/5)\n",
    "\n",
    "    nx.draw(G, ax=ax[i], node_size=100, with_labels=labels, pos=pos, node_color=colours)\n",
    "    \n",
    "plt.show()"
   ]
  },
  {
   "cell_type": "code",
   "execution_count": null,
   "metadata": {},
   "outputs": [],
   "source": [
    "nodes_per_comms_s = range(3, 10)\n",
    "labels = False\n",
    "\n",
    "fig, ax = plt.subplots(1, len(nodes_per_comms_s), figsize=(3*len(nodes_per_comms_s), 3))\n",
    "\n",
    "for i, nodes in enumerate(nodes_per_comms_s):\n",
    "\n",
    "    G = utils.make_community_graph(n_comms=2, nodes_per_comm=nodes)\n",
    "    \n",
    "    pos = nx.spring_layout(G, k=0.9)\n",
    "\n",
    "    # colour nodes by community, with desaturation\n",
    "    comms = [0]*nodes + [1]*nodes\n",
    "    colours = plt.cm.Set1(np.array(comms)/5)\n",
    "\n",
    "    nx.draw(G, ax=ax[i], node_size=100, with_labels=labels, pos=pos, node_color=colours)"
   ]
  },
  {
   "cell_type": "code",
   "execution_count": null,
   "metadata": {},
   "outputs": [],
   "source": [
    "def SBM_graph(n_comms, p_out, intercon, nodes_per_comm):\n",
    "    \"\"\"\n",
    "    Generate a graph with SBM with given parameters. \n",
    "    n_comms: int, number of communities\n",
    "    p_out: float, probability that each node will connect to a node in a different community\n",
    "    intercon: int, number of other communities each community is connected to\n",
    "    \"\"\"\n",
    "    p = utils.ideo_make_p(n_comms=n_comms, p_out=p_out, intercon=intercon)\n",
    "    G = utils.ideo_make_G(p=p, n_comms=n_comms, nodes_per_comm=nodes_per_comm)\n",
    "    return G"
   ]
  }
 ],
 "metadata": {
  "kernelspec": {
   "display_name": "venv",
   "language": "python",
   "name": "python3"
  },
  "language_info": {
   "codemirror_mode": {
    "name": "ipython",
    "version": 3
   },
   "file_extension": ".py",
   "mimetype": "text/x-python",
   "name": "python",
   "nbconvert_exporter": "python",
   "pygments_lexer": "ipython3",
   "version": "3.11.8"
  }
 },
 "nbformat": 4,
 "nbformat_minor": 2
}
